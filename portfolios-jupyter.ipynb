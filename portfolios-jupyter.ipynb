{
 "cells": [
  {
   "cell_type": "markdown",
   "metadata": {},
   "source": [
    "## Simple Stock Price Analysis\n",
    "\n",
    "In this Notebook we pull some stock price data based on the excellent [Reproducible Finance](http://www.reproduciblefinance.com/) website. Then using `pandas` and `matplotlib` we show a simple example of 20 and 100 day rolling windows.\n",
    "\n",
    "First, we do the data import using the `read_csv` `pandas` function which has native support for URLs. We will also convert the index into the date column."
   ]
  },
  {
   "cell_type": "code",
   "execution_count": 1,
   "metadata": {},
   "outputs": [
    {
     "ename": "ModuleNotFoundError",
     "evalue": "No module named 'pins'",
     "output_type": "error",
     "traceback": [
      "\u001b[0;31m---------------------------------------------------------------------------\u001b[0m",
      "\u001b[0;31mModuleNotFoundError\u001b[0m                       Traceback (most recent call last)",
      "\u001b[0;32m<ipython-input-1-44c533392a29>\u001b[0m in \u001b[0;36m<module>\u001b[0;34m\u001b[0m\n\u001b[1;32m      1\u001b[0m \u001b[0;32mimport\u001b[0m \u001b[0mmatplotlib\u001b[0m\u001b[0;34m.\u001b[0m\u001b[0mpyplot\u001b[0m \u001b[0;32mas\u001b[0m \u001b[0mplt\u001b[0m\u001b[0;34m\u001b[0m\u001b[0;34m\u001b[0m\u001b[0m\n\u001b[1;32m      2\u001b[0m \u001b[0;32mimport\u001b[0m \u001b[0mpandas\u001b[0m \u001b[0;32mas\u001b[0m \u001b[0mpd\u001b[0m\u001b[0;34m\u001b[0m\u001b[0;34m\u001b[0m\u001b[0m\n\u001b[0;32m----> 3\u001b[0;31m \u001b[0;32mimport\u001b[0m \u001b[0mpins\u001b[0m\u001b[0;34m\u001b[0m\u001b[0;34m\u001b[0m\u001b[0m\n\u001b[0m\u001b[1;32m      4\u001b[0m \u001b[0;34m\u001b[0m\u001b[0m\n\u001b[1;32m      5\u001b[0m \u001b[0mpins\u001b[0m\u001b[0;34m.\u001b[0m\u001b[0mboard_register\u001b[0m\u001b[0;34m(\u001b[0m\u001b[0;34m\"rsconnect\"\u001b[0m\u001b[0;34m,\u001b[0m \u001b[0mserver\u001b[0m \u001b[0;34m=\u001b[0m \u001b[0;34m\"https://colorado.rstudio.com/rsc/\"\u001b[0m\u001b[0;34m,\u001b[0m \u001b[0mkey\u001b[0m \u001b[0;34m=\u001b[0m \u001b[0;34m\"G30axTo5Q7qDzp7f3KfvkpW6g8Su5Hvl\"\u001b[0m\u001b[0;34m)\u001b[0m\u001b[0;34m\u001b[0m\u001b[0;34m\u001b[0m\u001b[0m\n",
      "\u001b[0;31mModuleNotFoundError\u001b[0m: No module named 'pins'"
     ]
    }
   ],
   "source": [
    "import matplotlib.pyplot as plt\n",
    "import pandas as pd\n",
    "import pins\n",
    "\n",
    "pins.board_register(\"rsconnect\", server = \"https://colorado.rstudio.com/rsc/\", key = \"G30axTo5Q7qDzp7f3KfvkpW6g8Su5Hvl\")\n",
    "\n",
    "returns = pins.pin_get(\"nick/all_returns\", board = \"rsconnect\")\n",
    "\n",
    "#stocks = pd.read_csv('https://colorado.rstudio.com/rsc/content/1255')\n",
    "returns.head()"
   ]
  },
  {
   "cell_type": "code",
   "execution_count": null,
   "metadata": {},
   "outputs": [],
   "source": [
    "stocks.index = pd.to_datetime(stocks['date'], format='%Y-%m-%d')\n",
    "\n",
    "spy = stocks.loc[:,'SPY']\n",
    "\n",
    "short_rolling_spy = spy.rolling(window=20).mean()\n",
    "long_rolling_spy = spy.rolling(window=100).mean()\n",
    "\n",
    "fig, ax = plt.subplots(figsize=(16,9))\n",
    "\n",
    "ax.plot(spy.index, spy, label='S&P 500')\n",
    "ax.plot(short_rolling_spy.index, short_rolling_spy, label='20 days rolling')\n",
    "ax.plot(long_rolling_spy.index, long_rolling_spy, label='100 days rolling')\n",
    "\n",
    "ax.set_xlabel('Date')\n",
    "ax.set_ylabel('Adjusted closing price ($)')\n",
    "ax.legend()"
   ]
  },
  {
   "cell_type": "code",
   "execution_count": null,
   "metadata": {},
   "outputs": [],
   "source": []
  }
 ],
 "metadata": {
  "kernelspec": {
   "display_name": "Python 3.6.7",
   "language": "python",
   "name": "py3.6.7"
  },
  "language_info": {
   "codemirror_mode": {
    "name": "ipython",
    "version": 3
   },
   "file_extension": ".py",
   "mimetype": "text/x-python",
   "name": "python",
   "nbconvert_exporter": "python",
   "pygments_lexer": "ipython3",
   "version": "3.6.7"
  },
  "rsconnect": {
   "previousServerId": "c19be6c13ef6ce0486a7fd847d6d3a67",
   "servers": {
    "c19be6c13ef6ce0486a7fd847d6d3a67": {
     "appId": 1998,
     "appMode": "jupyter-static",
     "configUrl": "https://colorado.rstudio.com:443/rsc/connect/#/apps/1998",
     "notebookTitle": "JupyterStock",
     "server": "https://colorado.rstudio.com/rsc/",
     "serverName": "colorado"
    }
   },
   "version": 1
  }
 },
 "nbformat": 4,
 "nbformat_minor": 4
}
